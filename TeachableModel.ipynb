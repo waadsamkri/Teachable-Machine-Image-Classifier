
---

## 🧠 Notes

- The model expects images resized to **224x224** pixels.
- Images are normalized in the range `[-1, 1]` before prediction.
- Ensure that the uploaded image matches one of the trained classes for accurate results.

---


